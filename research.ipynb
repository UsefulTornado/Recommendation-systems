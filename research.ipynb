{
 "cells": [
  {
   "cell_type": "markdown",
   "metadata": {},
   "source": [
    "# 0. Imports"
   ]
  },
  {
   "cell_type": "code",
   "execution_count": 9,
   "metadata": {},
   "outputs": [],
   "source": [
    "import numpy as np\n",
    "import pandas as pd\n",
    "\n",
    "from sklearn.model_selection import train_test_split\n",
    "from metrics import euclidean_similarity, pearson_similarity\n",
    "import numpy.ma as ma\n",
    "\n",
    "import scipy.sparse as scp\n",
    "\n",
    "from metrics import mapk\n",
    "\n",
    "from elementary import ElementaryRecommendation"
   ]
  },
  {
   "cell_type": "markdown",
   "metadata": {},
   "source": [
    "# 1. Models description"
   ]
  },
  {
   "cell_type": "markdown",
   "metadata": {},
   "source": [
    "## Baseline"
   ]
  },
  {
   "cell_type": "markdown",
   "metadata": {},
   "source": [
    "### **Elementary Recommendation**"
   ]
  },
  {
   "cell_type": "markdown",
   "metadata": {},
   "source": [
    "The most simlest way to predict ratings could be just a predicting average rating of all items, but this is not good at all. So for a baseline we can consider users and items bias. For example, some users rate the movies only in range 1-4 out of 10: rating 5 for them is something phenomenal; or users can also rate movies only highly.\n",
    "\n",
    "Let $\\mu$ be the average rating of all items, $r_{ui}$ - rating of item $i$ by user $u$, $I_u$ - items that were rated by user $u$. Then we can calculate user bias $b_u$ as:\n",
    "\n",
    "$$\n",
    "\\begin{align*}\n",
    "b_u=&\\frac{1}{|I_u|+\\alpha}\\sum_{i\\in{}I_u}(r_{ui} - \\mu)\n",
    "\\end{align*}, \n",
    "$$\n",
    "\n",
    "where $\\alpha$ is smoothing coefficient.\n",
    "\n",
    "We can similarly define item bias, but now let's take into account calculated users biases. Let $U_i$ be the users that rated item $i$. So then item bias $b_i$ is:\n",
    "\n",
    "$$\n",
    "\\begin{align*}\n",
    "b_i=&\\frac{1}{|U_i|+\\alpha}\\sum_{u\\in{}U_i}(r_{ui} - b_u - \\mu)\n",
    "\\end{align*}\n",
    "$$\n",
    "\n",
    "**Final prediction will be:**\n",
    "\n",
    "$$\n",
    "\\begin{align*}\n",
    "r_{ui}=&\\mu+b_u+b_i\n",
    "\\end{align*}\n",
    "$$\n",
    "\n",
    "> ##### See implementation of this approach in **elementary.py** file."
   ]
  },
  {
   "cell_type": "markdown",
   "metadata": {},
   "source": [
    "## Similarity based"
   ]
  },
  {
   "cell_type": "markdown",
   "metadata": {},
   "source": []
  },
  {
   "cell_type": "markdown",
   "metadata": {},
   "source": [
    "# 2. Data preparing"
   ]
  },
  {
   "cell_type": "markdown",
   "metadata": {},
   "source": [
    "We will use subset of **The Movies Dataset** from **kaggle** to evaluate our models."
   ]
  },
  {
   "cell_type": "code",
   "execution_count": 10,
   "metadata": {},
   "outputs": [
    {
     "data": {
      "text/plain": [
       "(100004, 4)"
      ]
     },
     "execution_count": 10,
     "metadata": {},
     "output_type": "execute_result"
    }
   ],
   "source": [
    "data = pd.read_csv('ratings_small.csv', index_col=False)\n",
    "data.shape"
   ]
  },
  {
   "cell_type": "code",
   "execution_count": 11,
   "metadata": {},
   "outputs": [
    {
     "data": {
      "text/html": [
       "<div>\n",
       "<style scoped>\n",
       "    .dataframe tbody tr th:only-of-type {\n",
       "        vertical-align: middle;\n",
       "    }\n",
       "\n",
       "    .dataframe tbody tr th {\n",
       "        vertical-align: top;\n",
       "    }\n",
       "\n",
       "    .dataframe thead th {\n",
       "        text-align: right;\n",
       "    }\n",
       "</style>\n",
       "<table border=\"1\" class=\"dataframe\">\n",
       "  <thead>\n",
       "    <tr style=\"text-align: right;\">\n",
       "      <th></th>\n",
       "      <th>userId</th>\n",
       "      <th>movieId</th>\n",
       "      <th>rating</th>\n",
       "      <th>timestamp</th>\n",
       "    </tr>\n",
       "  </thead>\n",
       "  <tbody>\n",
       "    <tr>\n",
       "      <th>0</th>\n",
       "      <td>1</td>\n",
       "      <td>31</td>\n",
       "      <td>2.5</td>\n",
       "      <td>1260759144</td>\n",
       "    </tr>\n",
       "    <tr>\n",
       "      <th>1</th>\n",
       "      <td>1</td>\n",
       "      <td>1029</td>\n",
       "      <td>3.0</td>\n",
       "      <td>1260759179</td>\n",
       "    </tr>\n",
       "    <tr>\n",
       "      <th>2</th>\n",
       "      <td>1</td>\n",
       "      <td>1061</td>\n",
       "      <td>3.0</td>\n",
       "      <td>1260759182</td>\n",
       "    </tr>\n",
       "    <tr>\n",
       "      <th>3</th>\n",
       "      <td>1</td>\n",
       "      <td>1129</td>\n",
       "      <td>2.0</td>\n",
       "      <td>1260759185</td>\n",
       "    </tr>\n",
       "    <tr>\n",
       "      <th>4</th>\n",
       "      <td>1</td>\n",
       "      <td>1172</td>\n",
       "      <td>4.0</td>\n",
       "      <td>1260759205</td>\n",
       "    </tr>\n",
       "  </tbody>\n",
       "</table>\n",
       "</div>"
      ],
      "text/plain": [
       "   userId  movieId  rating   timestamp\n",
       "0       1       31     2.5  1260759144\n",
       "1       1     1029     3.0  1260759179\n",
       "2       1     1061     3.0  1260759182\n",
       "3       1     1129     2.0  1260759185\n",
       "4       1     1172     4.0  1260759205"
      ]
     },
     "execution_count": 11,
     "metadata": {},
     "output_type": "execute_result"
    }
   ],
   "source": [
    "data.head()"
   ]
  },
  {
   "cell_type": "code",
   "execution_count": 12,
   "metadata": {},
   "outputs": [
    {
     "name": "stdout",
     "output_type": "stream",
     "text": [
      "(1, 671, 671)\n",
      "(1, 163949, 9066)\n"
     ]
    }
   ],
   "source": [
    "print((data.userId.min(), data.userId.max(), len(data.userId.unique())))\n",
    "print((data.movieId.min(), data.movieId.max(), len(data.movieId.unique())))"
   ]
  },
  {
   "cell_type": "markdown",
   "metadata": {},
   "source": [
    "There are many missings id's so it would be more convenient if we changed the numbering."
   ]
  },
  {
   "cell_type": "code",
   "execution_count": 13,
   "metadata": {},
   "outputs": [],
   "source": [
    "user_to_idx = {userId : idx for idx, userId in enumerate(data.userId.unique())}\n",
    "movie_to_idx = {movieId : idx for idx, movieId in enumerate(data.movieId.unique())}\n",
    "\n",
    "data.replace({'userId': user_to_idx, 'movieId': movie_to_idx}, inplace=True)"
   ]
  },
  {
   "cell_type": "code",
   "execution_count": 14,
   "metadata": {},
   "outputs": [
    {
     "name": "stdout",
     "output_type": "stream",
     "text": [
      "(0, 670, 671)\n",
      "(0, 9065, 9066)\n"
     ]
    }
   ],
   "source": [
    "print((data.userId.min(), data.userId.max(), len(data.userId.unique())))\n",
    "print((data.movieId.min(), data.movieId.max(), len(data.movieId.unique())))"
   ]
  },
  {
   "cell_type": "markdown",
   "metadata": {},
   "source": [
    "Let's split our data into train and test this way: we will remove the top 5 ratings from the most active users and put them in test data."
   ]
  },
  {
   "cell_type": "code",
   "execution_count": 15,
   "metadata": {},
   "outputs": [
    {
     "data": {
      "text/plain": [
       "((99954, 4), (50, 4))"
      ]
     },
     "execution_count": 15,
     "metadata": {},
     "output_type": "execute_result"
    }
   ],
   "source": [
    "train_data = data.copy()\n",
    "test_data = pd.DataFrame([], columns=train_data.columns)\n",
    "\n",
    "active_users = train_data.userId.value_counts()[:10].index\n",
    "\n",
    "for user_id in active_users:\n",
    "    test = train_data[train_data.userId == user_id].sort_values(by='rating', ascending=False)[:5]\n",
    "    test_data = test_data.append(test, ignore_index=True)\n",
    "    train_data = train_data[~((train_data.userId == user_id) & (train_data.movieId.isin(test.movieId.values)))]\n",
    "\n",
    "train_data.shape, test_data.shape"
   ]
  },
  {
   "cell_type": "markdown",
   "metadata": {},
   "source": [
    "It would be rather well to use [sparse matrix](https://en.wikipedia.org/wiki/Sparse_matrix) for storing all ratings, but in this case let's use dense one for simplifying some actions."
   ]
  },
  {
   "cell_type": "code",
   "execution_count": 16,
   "metadata": {},
   "outputs": [],
   "source": [
    "X = scp.coo_matrix(\n",
    "    (\n",
    "        train_data['rating'],  # users ratings\n",
    "        (train_data['userId'], train_data['movieId'])  # users and movies id's whose ratings are known\n",
    "        ),\n",
    "        shape=(len(user_to_idx), len(movie_to_idx))  # ratings matrix shape\n",
    "    ).tocsr().A"
   ]
  },
  {
   "cell_type": "code",
   "execution_count": 17,
   "metadata": {},
   "outputs": [
    {
     "data": {
      "text/plain": [
       "array([[2.5, 3. , 3. , ..., 0. , 0. , 0. ],\n",
       "       [0. , 0. , 0. , ..., 0. , 0. , 0. ],\n",
       "       [0. , 0. , 0. , ..., 0. , 0. , 0. ],\n",
       "       ...,\n",
       "       [0. , 0. , 0. , ..., 0. , 0. , 0. ],\n",
       "       [0. , 0. , 0. , ..., 0. , 0. , 0. ],\n",
       "       [0. , 0. , 0. , ..., 0. , 0. , 0. ]])"
      ]
     },
     "execution_count": 17,
     "metadata": {},
     "output_type": "execute_result"
    }
   ],
   "source": [
    "X"
   ]
  },
  {
   "cell_type": "markdown",
   "metadata": {},
   "source": [
    "# 3. Quantifying the quality of recommendations."
   ]
  },
  {
   "cell_type": "code",
   "execution_count": 67,
   "metadata": {},
   "outputs": [],
   "source": [
    "predicted = []\n",
    "\n",
    "er = ElementaryRecommendation()\n",
    "er.fit(X)\n",
    "\n",
    "for id in test_data.userId.unique():\n",
    "    predicted.append(er.make_recommendation(user_id=id, n_recommendations=100))"
   ]
  },
  {
   "cell_type": "code",
   "execution_count": 68,
   "metadata": {},
   "outputs": [],
   "source": [
    "actual = []\n",
    "\n",
    "for id in test_data.userId.unique():\n",
    "    actual.append(test_data[test_data.userId == id]['movieId'].astype(int).values)"
   ]
  },
  {
   "cell_type": "code",
   "execution_count": 69,
   "metadata": {},
   "outputs": [
    {
     "name": "stdout",
     "output_type": "stream",
     "text": [
      "0.035\n",
      "0.02\n",
      "0.0024773869699382953\n"
     ]
    }
   ],
   "source": [
    "print(mapk(actual=actual, predicted=predicted, k=5))\n",
    "print(mapk(actual=actual, predicted=predicted, k=10))\n",
    "print(mapk(actual=actual, predicted=predicted, k=100))"
   ]
  }
 ],
 "metadata": {
  "interpreter": {
   "hash": "948d73eb6dfda2e804d788ca8e9f193cc8a7762f6fd3fe59d9c3fe882d54f9f4"
  },
  "kernelspec": {
   "display_name": "Python 3.8.12 ('base')",
   "language": "python",
   "name": "python3"
  },
  "language_info": {
   "codemirror_mode": {
    "name": "ipython",
    "version": 3
   },
   "file_extension": ".py",
   "mimetype": "text/x-python",
   "name": "python",
   "nbconvert_exporter": "python",
   "pygments_lexer": "ipython3",
   "version": "3.8.12"
  },
  "orig_nbformat": 4
 },
 "nbformat": 4,
 "nbformat_minor": 2
}
